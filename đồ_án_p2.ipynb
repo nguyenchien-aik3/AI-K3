{
  "nbformat": 4,
  "nbformat_minor": 0,
  "metadata": {
    "colab": {
      "provenance": [],
      "authorship_tag": "ABX9TyNjuR6Qd1O2S8JIXJT3IcX5",
      "include_colab_link": true
    },
    "kernelspec": {
      "name": "python3",
      "display_name": "Python 3"
    },
    "language_info": {
      "name": "python"
    }
  },
  "cells": [
    {
      "cell_type": "markdown",
      "metadata": {
        "id": "view-in-github",
        "colab_type": "text"
      },
      "source": [
        "<a href=\"https://colab.research.google.com/github/nguyenchien-aik3/AI-K3/blob/main/%C4%91%E1%BB%93_%C3%A1n_p2.ipynb\" target=\"_parent\"><img src=\"https://colab.research.google.com/assets/colab-badge.svg\" alt=\"Open In Colab\"/></a>"
      ]
    },
    {
      "cell_type": "markdown",
      "source": [
        "Câu 1:"
      ],
      "metadata": {
        "id": "jHOMLGozR3EO"
      }
    },
    {
      "cell_type": "code",
      "source": [
        "import numpy as np\n",
        "np.random.seed(123)\n"
      ],
      "metadata": {
        "id": "a8sXFST0NN--"
      },
      "execution_count": 3,
      "outputs": []
    },
    {
      "cell_type": "markdown",
      "source": [
        "1. Cho x ∈ Rn và A ∈ Rm×n, hãy viết hàm tính tích x. A;"
      ],
      "metadata": {
        "id": "aKAimi09AxwD"
      }
    },
    {
      "cell_type": "code",
      "source": [
        "def vector_ma_tran(a, b, m, n):\n",
        "  a = np.random.randint(low = a, high = b, size = m*n,).reshape((m, n))\n",
        "  b = np.random.randint(low=a, high = b, size=n)\n",
        "  y = b*a\n",
        "  return(y)"
      ],
      "metadata": {
        "id": "UAZ58fqdOcWE"
      },
      "execution_count": 29,
      "outputs": []
    },
    {
      "cell_type": "markdown",
      "source": [
        "2.1 Cho A, B ∈ Rm×n, hãy viết hàm tính A°B"
      ],
      "metadata": {
        "id": "lUprY18g-o6k"
      }
    },
    {
      "cell_type": "code",
      "source": [
        "def nhan_mt3(a,b,m,n):\n",
        "  A = np.random.randint(low=a,high=b, size=m*n).reshape((m,n))\n",
        "  B = np.random.randint(low=a,high=b, size=m*n).reshape((m,n))\n",
        "  C = np.multiply(A,B)\n",
        "  return(C)\n"
      ],
      "metadata": {
        "id": "byHf6g9sOcIP"
      },
      "execution_count": 19,
      "outputs": []
    },
    {
      "cell_type": "markdown",
      "source": [
        "2.2  Cho A, B ∈ Rm×n, hãy viết hàm tính AT. B;"
      ],
      "metadata": {
        "id": "h-SH4gjiA7j8"
      }
    },
    {
      "cell_type": "code",
      "source": [
        "def nhan_mt4(a,b,m,n):\n",
        "  A = np.random.randint(low=a,high=b, size=m*n).reshape((m,n))\n",
        "  B = np.random.randint(low=a,high=b, size=m*n).reshape((m,n))\n",
        "  a = A.T\n",
        "  C = np.dot(a, B)\n",
        "  return(C)"
      ],
      "metadata": {
        "id": "nal5Tr7ZBH7M"
      },
      "execution_count": 26,
      "outputs": []
    },
    {
      "cell_type": "markdown",
      "source": [
        "3. Viết chương trình chính gọi các hàm trên."
      ],
      "metadata": {
        "id": "XdU8LhDU_1-t"
      }
    },
    {
      "cell_type": "code",
      "source": [
        "nhan_mt3(2,3,2,3)"
      ],
      "metadata": {
        "id": "_PbsTaCjOcFv",
        "outputId": "15496500-9ec8-4d3d-af58-8f8d779e699c",
        "colab": {
          "base_uri": "https://localhost:8080/"
        }
      },
      "execution_count": 18,
      "outputs": [
        {
          "output_type": "execute_result",
          "data": {
            "text/plain": [
              "array([[4, 4, 4],\n",
              "       [4, 4, 4]])"
            ]
          },
          "metadata": {},
          "execution_count": 18
        }
      ]
    },
    {
      "cell_type": "code",
      "execution_count": 27,
      "metadata": {
        "colab": {
          "base_uri": "https://localhost:8080/"
        },
        "id": "I8HW_umgMfHW",
        "outputId": "7d23eb39-0428-440a-da5a-a2526248e410"
      },
      "outputs": [
        {
          "output_type": "execute_result",
          "data": {
            "text/plain": [
              "array([[8, 8, 8],\n",
              "       [8, 8, 8],\n",
              "       [8, 8, 8]])"
            ]
          },
          "metadata": {},
          "execution_count": 27
        }
      ],
      "source": [
        "nhan_mt4(2,3,2,3)\n"
      ]
    },
    {
      "cell_type": "code",
      "source": [
        "vector_ma_tran(2,3,2,3)"
      ],
      "metadata": {
        "id": "Zn8m6-hRCbsM",
        "outputId": "4646d553-88f6-4967-e0d2-89d7d8799c5f",
        "colab": {
          "base_uri": "https://localhost:8080/"
        }
      },
      "execution_count": 31,
      "outputs": [
        {
          "output_type": "execute_result",
          "data": {
            "text/plain": [
              "array([[4, 4, 4],\n",
              "       [4, 4, 4]])"
            ]
          },
          "metadata": {},
          "execution_count": 31
        }
      ]
    },
    {
      "cell_type": "markdown",
      "source": [
        "Câu 2:"
      ],
      "metadata": {
        "id": "_2FDN5NwR7Ie"
      }
    },
    {
      "cell_type": "code",
      "source": [
        "from sympy import *"
      ],
      "metadata": {
        "id": "xgC1ejymSW6G"
      },
      "execution_count": null,
      "outputs": []
    },
    {
      "cell_type": "code",
      "source": [],
      "metadata": {
        "id": "FPmNAUH1SW0i"
      },
      "execution_count": null,
      "outputs": []
    },
    {
      "cell_type": "code",
      "source": [],
      "metadata": {
        "id": "z1QZhNvlSWx4"
      },
      "execution_count": null,
      "outputs": []
    },
    {
      "cell_type": "code",
      "source": [],
      "metadata": {
        "id": "aAb_pQj9SWuw"
      },
      "execution_count": null,
      "outputs": []
    },
    {
      "cell_type": "code",
      "source": [],
      "metadata": {
        "id": "6jyl_U0ZSWr_"
      },
      "execution_count": null,
      "outputs": []
    },
    {
      "cell_type": "code",
      "source": [],
      "metadata": {
        "id": "WByyb5VNSWl0"
      },
      "execution_count": null,
      "outputs": []
    },
    {
      "cell_type": "code",
      "source": [],
      "metadata": {
        "id": "sCURW20FSWil"
      },
      "execution_count": null,
      "outputs": []
    },
    {
      "cell_type": "code",
      "source": [],
      "metadata": {
        "id": "7rmXkF9fSWf2"
      },
      "execution_count": null,
      "outputs": []
    },
    {
      "cell_type": "code",
      "source": [
        "from sympy import *\n",
        "def giai_ham(x, f, a):\n",
        "  answer = limit(f, x, a)\n",
        "  print('Kết quả giới hạn: ', answer)\n",
        "\n",
        "def tinh_dao_ham(x, f):\n",
        "  answer = diff(f, x)\n",
        "  print('Kết quả đạo hàm: ', answer)\n",
        "\n",
        "def nguyen_ham(x, f):\n",
        "  answer = integrate(f, x)\n",
        "  print('Kết quả nguyên hàm: ', answer)\n",
        "\n",
        "def tich_phan(x, f, a, b):\n",
        "  answer = integrate(f, (x, a, b))\n",
        "  print('Kết quả tích phân: ', answer)\n",
        "\n",
        "def main():\n",
        "  x = symbols('x')\n",
        "  giai_pt_he3(2, -5, 1, -5, 4, 2, -2, 2, 1, 1, -1, 0)\n",
        "  giai_ham(x, (x*3-3*x**2)**1/3+(x**2-2*x)**1/2, +00)\n",
        "  tinh_dao_ham(x, (2*x-1)/(x+2))\n",
        "  nguyen_ham(x, (x / (x ** 2 + 1)))\n",
        "  tich_phan(x, (1 - (x * 2 * tan(x)) / (x * 2 + cos(x) + x)), pi, (2 * pi / 3))\n",
        "if _name_ == '_main_':\n",
        "  main()"
      ],
      "metadata": {
        "id": "TS6sRkK9NR_z"
      },
      "execution_count": null,
      "outputs": []
    },
    {
      "cell_type": "markdown",
      "source": [
        "Câu 3:"
      ],
      "metadata": {
        "id": "MpPZt8sySbLn"
      }
    },
    {
      "cell_type": "code",
      "source": [
        "import numpy as np\n",
        "import matplotlib.pyplot as plt\n",
        "from sympy import symbols, Eq, solve\n",
        "from sympy import *\n",
        "fig, ax = plt.subplots()\n",
        "x = np.linspace(start = -10.0, stop = 10.0, num = 200)\n",
        "y = x**4 - 2*x**2 - 3\n",
        "y1 = 4*x**3 - 4*x\n",
        "y2 = 12*x**2 - 4\n",
        "y3 = 24*x\n",
        "ax.plot(x, y)\n",
        "ax.plot(x, y1)\n",
        "ax.plot(x, y2)\n",
        "ax.plot(x, y3)\n",
        "ax.set_xlabel('Trục hoành - x')\n",
        "ax.set_ylabel('Trục tung - y')\n",
        "ax.plot(x, y, label = r'$y = x^4 - 2x^2 - 3$')\n",
        "ax.plot(x, y1, label = r'$y = 4x^3 - 4x$')\n",
        "ax.plot(x, y2, label = r'$y = 12x^2 - 4$')\n",
        "ax.plot(x, y3, label = r'$ y = 24x $')\n",
        "ax.set_title('Đồ thị phương trình')\n",
        "ax.legend()\n",
        "plt.show()"
      ],
      "metadata": {
        "id": "WJ48DBMeSas-"
      },
      "execution_count": null,
      "outputs": []
    },
    {
      "cell_type": "code",
      "source": [
        "import numpy as np\n",
        "np.random.seed(123)\n",
        "\n",
        "def tao_ma_tran(a, b, m, n):\n",
        "    y = np.random.randint(low = a, high = b, size = m*n,).reshape((m, n))\n",
        "    print(y)\n",
        "    return(y)\n",
        "def nhan_ma_tran(n, y):\n",
        "    T = n * y\n",
        "    print(T)\n",
        "def nhan_ma_tran2(x, y):\n",
        "    T = np.multiply(x, y)\n",
        "    print(T)\n",
        "def nhan_mt3(n, x):\n",
        "    y = tao_ma_tran(2, 8 , 3, 5)\n",
        "    y_chuyenvi = y.T\n",
        "    T = np.dot(x, y_chuyenvi)\n",
        "    print(T)\n",
        "def main():\n",
        "    x = tao_ma_tran(2, 8, 3, 5)\n",
        "    y = tao_ma_tran(2, 8, 3, 5)\n",
        "    nhan_ma_tran(x, y)\n",
        "    nhan_ma_tran2(x, y)\n",
        "    nhan_mt3(3, x)\n",
        "if _name_ == '_main_':\n",
        "    main()\n"
      ],
      "metadata": {
        "id": "Aq6kB9ZGS2om"
      },
      "execution_count": null,
      "outputs": []
    }
  ]
}